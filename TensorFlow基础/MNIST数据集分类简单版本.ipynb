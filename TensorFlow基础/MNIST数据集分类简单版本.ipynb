{
 "cells": [
  {
   "cell_type": "code",
   "execution_count": 1,
   "metadata": {},
   "outputs": [
    {
     "name": "stderr",
     "output_type": "stream",
     "text": [
      "C:\\ProgramData\\Anaconda3\\envs\\tensorflow36\\lib\\importlib\\_bootstrap.py:205: RuntimeWarning: numpy.ufunc size changed, may indicate binary incompatibility. Expected 192 from C header, got 216 from PyObject\n",
      "  return f(*args, **kwds)\n",
      "C:\\ProgramData\\Anaconda3\\envs\\tensorflow36\\lib\\importlib\\_bootstrap.py:205: RuntimeWarning: numpy.ufunc size changed, may indicate binary incompatibility. Expected 192 from C header, got 216 from PyObject\n",
      "  return f(*args, **kwds)\n",
      "C:\\ProgramData\\Anaconda3\\envs\\tensorflow36\\lib\\importlib\\_bootstrap.py:205: RuntimeWarning: numpy.ufunc size changed, may indicate binary incompatibility. Expected 192 from C header, got 216 from PyObject\n",
      "  return f(*args, **kwds)\n",
      "C:\\ProgramData\\Anaconda3\\envs\\tensorflow36\\lib\\importlib\\_bootstrap.py:205: RuntimeWarning: numpy.ufunc size changed, may indicate binary incompatibility. Expected 192 from C header, got 216 from PyObject\n",
      "  return f(*args, **kwds)\n"
     ]
    }
   ],
   "source": [
    "import tensorflow as tf\n",
    "from tensorflow.examples.tutorials.mnist import input_data"
   ]
  },
  {
   "cell_type": "code",
   "execution_count": 12,
   "metadata": {},
   "outputs": [
    {
     "name": "stdout",
     "output_type": "stream",
     "text": [
      "Extracting MNIST_data\\train-images-idx3-ubyte.gz\n",
      "Extracting MNIST_data\\train-labels-idx1-ubyte.gz\n",
      "Extracting MNIST_data\\t10k-images-idx3-ubyte.gz\n",
      "Extracting MNIST_data\\t10k-labels-idx1-ubyte.gz\n",
      "Iter 0,Testing Accuracy0.8738\n",
      "Iter 1,Testing Accuracy0.8931\n",
      "Iter 2,Testing Accuracy0.9\n",
      "Iter 3,Testing Accuracy0.9054\n",
      "Iter 4,Testing Accuracy0.9091\n",
      "Iter 5,Testing Accuracy0.9103\n",
      "Iter 6,Testing Accuracy0.9122\n",
      "Iter 7,Testing Accuracy0.9148\n",
      "Iter 8,Testing Accuracy0.9159\n",
      "Iter 9,Testing Accuracy0.918\n",
      "Iter 10,Testing Accuracy0.9181\n",
      "Iter 11,Testing Accuracy0.9187\n",
      "Iter 12,Testing Accuracy0.9201\n",
      "Iter 13,Testing Accuracy0.9213\n",
      "Iter 14,Testing Accuracy0.9207\n",
      "Iter 15,Testing Accuracy0.9222\n",
      "Iter 16,Testing Accuracy0.9216\n",
      "Iter 17,Testing Accuracy0.9225\n",
      "Iter 18,Testing Accuracy0.9228\n",
      "Iter 19,Testing Accuracy0.9231\n",
      "Iter 20,Testing Accuracy0.9238\n"
     ]
    }
   ],
   "source": [
    "# 载入数据集\n",
    "mnist = input_data.read_data_sets(\"MNIST_data\",one_hot=True)\n",
    "\n",
    "# 批次大小\n",
    "batch_size = 64\n",
    "# 计算一共有多少个批次\n",
    "n_batch = mnist.train.num_examples // batch_size\n",
    "\n",
    "# 定义两个placeholder\n",
    "x = tf.placeholder(tf.float32,[None,784])\n",
    "y = tf.placeholder(tf.float32,[None,10])\n",
    "\n",
    "# 创建一个简单的神经网络:784-10\n",
    "W = tf.Variable(tf.truncated_normal([784,10],stddev=0.1))\n",
    "b = tf.Variable(tf.zeros([10]) + 0.1)\n",
    "prediction = tf.nn.softmax(tf.matmul(x,W)+b)\n",
    "\n",
    "# 二次代价函数\n",
    "loss = tf.losses.mean_squared_error(y,prediction)\n",
    "# 使用梯度下降法\n",
    "train = tf.train.GradientDescentOptimizer(0.5).minimize(loss)\n",
    "\n",
    "# 1->0100000000\n",
    "# 2->0010000000\n",
    "# 结果存放在一个布尔型列表中\n",
    "correct_prediction = tf.equal(tf.argmax(y,1),tf.argmax(prediction,1))\n",
    "# 求准确率 true->1 false->0\n",
    "accuracy = tf.reduce_mean(tf.cast(correct_prediction,tf.float32))\n",
    "\n",
    "with tf.Session() as sess:\n",
    "    # 变量初始化\n",
    "    sess.run(tf.global_variables_initializer())\n",
    "    \n",
    "    # for _ in range(1000):\n",
    "\n",
    "    # 周期epoch：所有的数据训练一次，就是一个周期\n",
    "    for epoch in range(21):\n",
    "        for batch in range(n_batch):\n",
    "            # 获取一个批次的数据和标签\n",
    "            batch_xs,batch_ys = mnist.train.next_batch(batch_size)\n",
    "            sess.run(train,feed_dict={x:batch_xs,y:batch_ys})\n",
    "        # 每训练一个周期做一次测试\n",
    "        acc = sess.run(accuracy,feed_dict={x:mnist.test.images,y:mnist.test.labels})\n",
    "        print(\"Iter \" + str(epoch) + \",Testing Accuracy\" + str(acc))"
   ]
  },
  {
   "cell_type": "code",
   "execution_count": null,
   "metadata": {},
   "outputs": [],
   "source": []
  }
 ],
 "metadata": {
  "kernelspec": {
   "display_name": "Python 3",
   "language": "python",
   "name": "python3"
  },
  "language_info": {
   "codemirror_mode": {
    "name": "ipython",
    "version": 3
   },
   "file_extension": ".py",
   "mimetype": "text/x-python",
   "name": "python",
   "nbconvert_exporter": "python",
   "pygments_lexer": "ipython3",
   "version": "3.6.2"
  }
 },
 "nbformat": 4,
 "nbformat_minor": 2
}
