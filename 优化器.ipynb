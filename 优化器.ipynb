{
 "cells": [
  {
   "cell_type": "code",
   "execution_count": 3,
   "metadata": {},
   "outputs": [],
   "source": [
    "import tensorflow as tf\n",
    "from tensorflow.examples.tutorials.mnist import input_data"
   ]
  },
  {
   "cell_type": "code",
   "execution_count": 4,
   "metadata": {},
   "outputs": [
    {
     "name": "stdout",
     "output_type": "stream",
     "text": [
      "Extracting MNIST_data\\train-images-idx3-ubyte.gz\n",
      "Extracting MNIST_data\\train-labels-idx1-ubyte.gz\n",
      "Extracting MNIST_data\\t10k-images-idx3-ubyte.gz\n",
      "Extracting MNIST_data\\t10k-labels-idx1-ubyte.gz\n",
      "Iter 0,Testing Accuracy 0.9143\n",
      "Iter 1,Testing Accuracy 0.9211\n",
      "Iter 2,Testing Accuracy 0.9266\n",
      "Iter 3,Testing Accuracy 0.9293\n",
      "Iter 4,Testing Accuracy 0.9281\n",
      "Iter 5,Testing Accuracy 0.931\n",
      "Iter 6,Testing Accuracy 0.9303\n",
      "Iter 7,Testing Accuracy 0.9304\n",
      "Iter 8,Testing Accuracy 0.9319\n",
      "Iter 9,Testing Accuracy 0.9319\n",
      "Iter 10,Testing Accuracy 0.9325\n",
      "Iter 11,Testing Accuracy 0.9318\n",
      "Iter 12,Testing Accuracy 0.9338\n",
      "Iter 13,Testing Accuracy 0.9325\n",
      "Iter 14,Testing Accuracy 0.9331\n",
      "Iter 15,Testing Accuracy 0.9328\n",
      "Iter 16,Testing Accuracy 0.9334\n",
      "Iter 17,Testing Accuracy 0.9335\n",
      "Iter 18,Testing Accuracy 0.932\n",
      "Iter 19,Testing Accuracy 0.932\n",
      "Iter 20,Testing Accuracy 0.9313\n"
     ]
    }
   ],
   "source": [
    "#载入数据集\n",
    "mnist = input_data.read_data_sets(\"MNIST_data\",one_hot=True)\n",
    "\n",
    "#每个批次的大小\n",
    "batch_size = 64\n",
    "#计算一共有多少个批次\n",
    "n_batch = mnist.train.num_examples // batch_size\n",
    "\n",
    "# 定义两个placeholder\n",
    "x = tf.placeholder(tf.float32,[None,784])\n",
    "y = tf.placeholder(tf.float32,[None,10])\n",
    "\n",
    "# 创建一个简单的神经网络\n",
    "W = tf.Variable(tf.zeros([784,10]))\n",
    "b = tf.Variable(tf.zeros([10]))\n",
    "prediction = tf.nn.softmax(tf.matmul(x,W)+b)\n",
    "\n",
    "# 交叉熵代价函数\n",
    "# loss = tf.losses.softmax_cross_entropy(y,prediction)\n",
    "loss = tf.losses.mean_squared_error(y,prediction)\n",
    "# 使用梯度下降法 \n",
    "# train_step = tf.train.GradientDescentOptimizer(0.2).minimize(loss)\n",
    "# 另一个优化器\n",
    "train_step = tf.train.AdamOptimizer(0.001).minimize(loss)\n",
    "\n",
    "# 初始化变量\n",
    "init = tf.global_variables_initializer()\n",
    "\n",
    "# 结果存放在一个布尔型列表中\n",
    "correct_prediction = tf.equal(tf.argmax(y,1),tf.argmax(prediction,1))#argmax返回一维张量中最大的值所在的位置\n",
    "# 求准确率\n",
    "accuracy = tf.reduce_mean(tf.cast(correct_prediction,tf.float32))\n",
    "\n",
    "with tf.Session() as sess:\n",
    "    sess.run(init)\n",
    "    for epoch in range(21):\n",
    "        for batch in range(n_batch):\n",
    "            batch_xs,batch_ys =  mnist.train.next_batch(batch_size)\n",
    "            sess.run(train_step,feed_dict={x:batch_xs,y:batch_ys})\n",
    "        \n",
    "        acc = sess.run(accuracy,feed_dict={x:mnist.test.images,y:mnist.test.labels})\n",
    "        print(\"Iter \" + str(epoch) + \",Testing Accuracy \" + str(acc))"
   ]
  },
  {
   "cell_type": "code",
   "execution_count": 3,
   "metadata": {},
   "outputs": [
    {
     "ename": "SyntaxError",
     "evalue": "invalid syntax (<ipython-input-3-46cd29689d92>, line 1)",
     "output_type": "error",
     "traceback": [
      "\u001b[0;36m  File \u001b[0;32m\"<ipython-input-3-46cd29689d92>\"\u001b[0;36m, line \u001b[0;32m1\u001b[0m\n\u001b[0;31m    Iter 0,Testing Accuracy 0.9099\u001b[0m\n\u001b[0m         ^\u001b[0m\n\u001b[0;31mSyntaxError\u001b[0m\u001b[0;31m:\u001b[0m invalid syntax\n"
     ]
    }
   ],
   "source": [
    "Iter 0,Testing Accuracy 0.8605\n",
    "Iter 1,Testing Accuracy 0.8829\n",
    "Iter 2,Testing Accuracy 0.8924\n",
    "Iter 3,Testing Accuracy 0.8982\n",
    "Iter 4,Testing Accuracy 0.9009\n",
    "Iter 5,Testing Accuracy 0.9037\n",
    "Iter 6,Testing Accuracy 0.9059\n",
    "Iter 7,Testing Accuracy 0.908\n",
    "Iter 8,Testing Accuracy 0.9086\n",
    "Iter 9,Testing Accuracy 0.9098\n",
    "Iter 10,Testing Accuracy 0.912\n",
    "Iter 11,Testing Accuracy 0.9133\n",
    "Iter 12,Testing Accuracy 0.913\n",
    "Iter 13,Testing Accuracy 0.9147\n",
    "Iter 14,Testing Accuracy 0.9155\n",
    "Iter 15,Testing Accuracy 0.9168\n",
    "Iter 16,Testing Accuracy 0.9166\n",
    "Iter 17,Testing Accuracy 0.9177\n",
    "Iter 18,Testing Accuracy 0.9177\n",
    "Iter 19,Testing Accuracy 0.9182\n",
    "Iter 20,Testing Accuracy 0.9181"
   ]
  }
 ],
 "metadata": {
  "anaconda-cloud": {},
  "kernelspec": {
   "display_name": "Python 3",
   "language": "python",
   "name": "python3"
  },
  "language_info": {
   "codemirror_mode": {
    "name": "ipython",
    "version": 3
   },
   "file_extension": ".py",
   "mimetype": "text/x-python",
   "name": "python",
   "nbconvert_exporter": "python",
   "pygments_lexer": "ipython3",
   "version": "3.6.2"
  }
 },
 "nbformat": 4,
 "nbformat_minor": 1
}
