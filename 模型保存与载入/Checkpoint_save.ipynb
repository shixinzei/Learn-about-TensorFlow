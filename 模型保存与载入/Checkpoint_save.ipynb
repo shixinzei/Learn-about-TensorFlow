{
 "cells": [
  {
   "cell_type": "code",
   "execution_count": 4,
   "metadata": {},
   "outputs": [],
   "source": [
    "import tensorflow as tf\n",
    "from tensorflow.examples.tutorials.mnist import input_data"
   ]
  },
  {
   "cell_type": "code",
   "execution_count": 5,
   "metadata": {
    "scrolled": true
   },
   "outputs": [
    {
     "name": "stdout",
     "output_type": "stream",
     "text": [
      "Extracting ../MNIST_data\\train-images-idx3-ubyte.gz\n",
      "Extracting ../MNIST_data\\train-labels-idx1-ubyte.gz\n",
      "Extracting ../MNIST_data\\t10k-images-idx3-ubyte.gz\n",
      "Extracting ../MNIST_data\\t10k-labels-idx1-ubyte.gz\n"
     ]
    }
   ],
   "source": [
    "# 载入数据集\n",
    "mnist = input_data.read_data_sets(\"../MNIST_data\",one_hot=True)\n",
    "\n",
    "# 每个批次64张照片\n",
    "batch_size = 64\n",
    "# 计算一共有多少个批次\n",
    "n_batch = mnist.train.num_examples // batch_size\n",
    "\n",
    "# 定义两个placeholder\n",
    "# 给模型数据输入的入口起名为x-input\n",
    "x = tf.placeholder(tf.float32,[None,784], name='x-input')\n",
    "# 给模型标签输入的入口起名为y-input\n",
    "y = tf.placeholder(tf.float32,[None,10], name='y-input')\n",
    "\n",
    "# 创建一个简单的神经网络：784-10，输入层784个神经元，输出层10个神经元\n",
    "W = tf.Variable(tf.truncated_normal([784,10],stddev=0.1))\n",
    "b = tf.Variable(tf.zeros([10])+0.1)\n",
    "\n",
    "# 给模型输出起名为output\n",
    "prediction = tf.nn.softmax(tf.matmul(x,W)+b, name='output')\n",
    "\n",
    "# 交叉熵代价函数\n",
    "loss = tf.losses.softmax_cross_entropy(y,prediction)\n",
    "# 使用Adam优化器，给优化器operation起名为train\n",
    "train_step = tf.train.AdamOptimizer(0.001).minimize(loss, name='train')\n",
    "\n",
    "# 初始化变量\n",
    "init = tf.global_variables_initializer()\n",
    "\n",
    "# 求准确率\n",
    "# tf.argmax(y,1)中的1表示取y中第1个维度中最大值所在的位置\n",
    "# tf.equal表示比较两个值是否相等，相等返回True，不相等返回False\n",
    "# 最后correct_prediction是一个布尔型的列表\n",
    "correct_prediction = tf.equal(tf.argmax(y,1),tf.argmax(prediction,1))\n",
    "# tf.cast表示数据格式转换，把布尔型转为float类型，True变成1.0，False变成0.0\n",
    "# tf.reduce_mean求平均值\n",
    "# 最后accuracy为准确率\n",
    "# 给准确率tensor起名为accuracy\n",
    "accuracy = tf.reduce_mean(tf.cast(correct_prediction,tf.float32), name='accuracy')"
   ]
  },
  {
   "cell_type": "code",
   "execution_count": 3,
   "metadata": {},
   "outputs": [
    {
     "name": "stdout",
     "output_type": "stream",
     "text": [
      "Iter 0,Testing Accuracy 0.904\n",
      "Iter 1,Testing Accuracy 0.9143\n",
      "Iter 2,Testing Accuracy 0.9189\n",
      "Iter 3,Testing Accuracy 0.9222\n",
      "Iter 4,Testing Accuracy 0.9245\n",
      "Iter 5,Testing Accuracy 0.9264\n",
      "Iter 6,Testing Accuracy 0.9291\n",
      "Iter 7,Testing Accuracy 0.9265\n",
      "Iter 8,Testing Accuracy 0.929\n",
      "Iter 9,Testing Accuracy 0.9288\n",
      "Iter 10,Testing Accuracy 0.9299\n"
     ]
    }
   ],
   "source": [
    "# 定义Saver用于保存模型\n",
    "saver = tf.train.Saver()\n",
    "\n",
    "with tf.Session() as sess:\n",
    "    # 变量初始化\n",
    "    sess.run(init)\n",
    "    # 运行11个周期\n",
    "    for epoch in range(11):\n",
    "        for batch in range(n_batch):\n",
    "            # 获取一个批次的数据和标签\n",
    "            batch_xs,batch_ys =  mnist.train.next_batch(batch_size)\n",
    "            # 喂到模型中做训练\n",
    "            sess.run(train_step,feed_dict={x:batch_xs,y:batch_ys})\n",
    "        # 每个周期计算一次测试集准确率\n",
    "        acc = sess.run(accuracy,feed_dict={x:mnist.test.images,y:mnist.test.labels})\n",
    "        # 打印信息\n",
    "        print(\"Iter \" + str(epoch) + \",Testing Accuracy \" + str(acc))\n",
    "    # 保存模型\n",
    "    saver.save(sess,'models/my_model.ckpt') # ckpt:checkpiont"
   ]
  },
  {
   "cell_type": "code",
   "execution_count": null,
   "metadata": {
    "collapsed": true
   },
   "outputs": [],
   "source": []
  }
 ],
 "metadata": {
  "anaconda-cloud": {},
  "kernelspec": {
   "display_name": "Python 3",
   "language": "python",
   "name": "python3"
  },
  "language_info": {
   "codemirror_mode": {
    "name": "ipython",
    "version": 3
   },
   "file_extension": ".py",
   "mimetype": "text/x-python",
   "name": "python",
   "nbconvert_exporter": "python",
   "pygments_lexer": "ipython3",
   "version": "3.6.2"
  }
 },
 "nbformat": 4,
 "nbformat_minor": 1
}
